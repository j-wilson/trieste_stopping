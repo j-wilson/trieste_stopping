{
 "cells": [
  {
   "cell_type": "markdown",
   "id": "53f9509c-55be-45be-aa70-aa08a788be0e",
   "metadata": {},
   "source": [
    "## Overview\n",
    "- This notebook overviews the `Factory` classes used to run our experiments.\n",
    "- These classes are intended to assist with book keeping by the recording what objects were used and how.\n",
    "- By the end of this tutorial, you should hopefully understand how the following example works."
   ]
  },
  {
   "cell_type": "code",
   "execution_count": 1,
   "id": "407bac4a-950a-400c-9a38-83a8f2b67e57",
   "metadata": {},
   "outputs": [],
   "source": [
    "import os, sys  # enable relative imports\n",
    "module_path = os.path.abspath(os.path.join('../experiments'))\n",
    "if module_path not in sys.path:\n",
    "    sys.path.append(module_path)    \n",
    "\n",
    "import tensorflow as tf\n",
    "from factories import default_factory_mode, FactoryManager\n",
    "\n",
    "gpflow = FactoryManager(\"gpflow\")\n",
    "with default_factory_mode.ctx(True):\n",
    "    model = gpflow.models.GPR(\n",
    "        kernel=gpflow.kernels.Matern52(lengthscales=0.5), \n",
    "        likelihood=gpflow.likelihoods.Gaussian(variance=1e-3),\n",
    "    )\n",
    "\n",
    "X = tf.random.uniform([3, 2])\n",
    "Y = tf.random.uniform([3, 1])\n",
    "print(f\"1. {model}\\n\")  # easy to serialize!\n",
    "print(f\"2. {model(data=(X, Y))}\")  # initalizes a model"
   ]
  },
  {
   "cell_type": "markdown",
   "id": "2088022d-8bec-4471-b422-6c0f6a053959",
   "metadata": {},
   "source": [
    "### Factory\n",
    "- A `Factory` stores an object (such as a class) along with its path relative to a parent module.\n",
    "- `Factory` instances have fields `factory: bool | None = None` that control their behavior when called (explored below).\n",
    "- `Factory.factory_ctx` is a context manager for conveniently switching between modes.\n",
    "- The `default_factory_mode` setting dictates the behavior of `Factory` instances whose `factory` field is `None`."
   ]
  },
  {
   "cell_type": "markdown",
   "id": "32baf113-9e5f-40c4-8080-4140596d0d00",
   "metadata": {},
   "source": [
    "### Loader\n",
    "- A `Loader` is a `Factory` for an object, such as a type or pre-built instance of a class.\n",
    "- When called outside of factory mode, a `Loader` returns wrapped object.\n",
    "- When called in factory mode, a `Loader` returns a `Builder` for the wrapped object if it is callable and raises a `RuntimeError` otherwise.\n"
   ]
  },
  {
   "cell_type": "code",
   "execution_count": 2,
   "id": "b943db63-2373-4ae2-bea3-85147c097864",
   "metadata": {},
   "outputs": [
    {
     "name": "stdout",
     "output_type": "stream",
     "text": [
      "1. Loader(path='gpflow.kernels.Matern52', factory=None)\n",
      "2. <class 'gpflow.kernels.stationaries.Matern52'>\n",
      "3. Builder(path='gpflow.kernels.Matern52', factory=None, args=[], keywords={'variance': 2.0, 'lengthscales': 1.0})\n"
     ]
    }
   ],
   "source": [
    "from factories import Loader\n",
    "\n",
    "loader = Loader(path=\"gpflow.kernels.Matern52\")\n",
    "print(f\"1. {loader}\")  # here, factory mode is False\n",
    "print(f\"2. {loader()}\")  # returns the Matern52 type\n",
    "\n",
    "with default_factory_mode.ctx(True):  # here, factory mode is True\n",
    "    print(f\"3. {loader(variance=2.0)}\") # returns a Builder for a Matern52 instance"
   ]
  },
  {
   "cell_type": "markdown",
   "id": "74a318ae-3af1-4ddd-b06d-06320dc8925a",
   "metadata": {},
   "source": [
    "## Builder\n",
    "- A `Builder` is a `Factory` that wraps and executes a `Callable` similar to `functools.partial`.\n",
    "- During initialization, a `Builder` extracts the default arguments of the wrapped object.\n",
    "- When called, a `Builder` resolves runtime arguments in the same way as `functools.partial`.\n",
    "- When called outside of factory mode, the updated arguments are used to call the wrapped object.\n",
    "- When called in factory mode, the updated argument are instead returned as part of a new `Builder` for the wrapped object."
   ]
  },
  {
   "cell_type": "code",
   "execution_count": 3,
   "id": "eebcf7e6-f672-423c-a417-0a67a4ac356a",
   "metadata": {},
   "outputs": [
    {
     "name": "stdout",
     "output_type": "stream",
     "text": [
      "1. Builder(path='gpflow.kernels.Matern52', factory=None, args=[], keywords={'variance': 1.0, 'lengthscales': 0.5})\n",
      "2. <gpflow.kernels.stationaries.Matern52 object at 0x110ed9510>\n",
      "3. Builder(path='gpflow.kernels.Matern52', factory=None, args=[], keywords={'variance': 2.0, 'lengthscales': 0.5})\n",
      "4. <gpflow.kernels.stationaries.Matern52 object at 0x110ec88d0>\n"
     ]
    }
   ],
   "source": [
    "from factories import Builder\n",
    "\n",
    "builder = Builder(path=\"gpflow.kernels.Matern52\", keywords={\"lengthscales\": 0.5})\n",
    "print(f\"1. {builder}\")\n",
    "print(f\"2. {builder(variance=3.0)}\")  # kernel with variance 3\n",
    "\n",
    "with default_factory_mode.ctx(True):\n",
    "    new_builder = builder(variance=2.0)\n",
    "\n",
    "print(f\"3. {new_builder}\")\n",
    "print(f\"4. {new_builder()}\")  # kernel with variance 2"
   ]
  },
  {
   "cell_type": "markdown",
   "id": "22ac0393-8ce1-482a-8412-08df1e74dc17",
   "metadata": {},
   "source": [
    "## build\n",
    "- The `build` helper function can be used to invoke factories and basic containers thereof.\n",
    "- `build` supports the following container types: dictionaries, sequences, NamedTuples, and dataclasses.\n",
    "- Note that `Builder` subclasses `Partial`. The only difference between these classes is that the latter is not invoked when calling `build`."
   ]
  },
  {
   "cell_type": "code",
   "execution_count": 4,
   "id": "1fc677bb-2720-4797-b566-3d1f39957a8a",
   "metadata": {},
   "outputs": [
    {
     "name": "stdout",
     "output_type": "stream",
     "text": [
      "1. FactoryTuple(loader=Loader(path='gpflow.kernels.Matern52', factory=None), builder=Builder(path='gpflow.kernels.Matern52', factory=None, args=[], keywords={}), partial=Partial(path='gpflow.kernels.Matern52', factory=None, args=[], keywords={'variance': 1.0, 'lengthscales': 0.5}))\n",
      "\n",
      "2. FactoryTuple(loader=<class 'gpflow.kernels.stationaries.Matern52'>, builder=<gpflow.kernels.stationaries.Matern52 object at 0x110ed2c10>, partial=Partial(path='gpflow.kernels.Matern52', factory=None, args=[], keywords={'variance': 1.0, 'lengthscales': 0.5}))\n"
     ]
    }
   ],
   "source": [
    "from typing import NamedTuple\n",
    "from factories import build, Partial\n",
    "\n",
    "class FactoryTuple(NamedTuple):\n",
    "    loader: Loader  # invoked when calling `build`\n",
    "    builder: Builder  # invoked when calling `build`\n",
    "    partial: Partial   # not invoked when calling `build`\n",
    "\n",
    "factories = FactoryTuple(loader, builder, builder.as_partial())\n",
    "print(f\"1. {factories}\\n\")\n",
    "print(f\"2. {build(factories)}\")"
   ]
  },
  {
   "cell_type": "markdown",
   "id": "62a037c3-5c6d-4c4c-9135-45d592d97f3a",
   "metadata": {},
   "source": [
    "### FactoryManager\n",
    "- A `FactoryManager` is a convenience class for automatically creating `Loader` instances.\n",
    "- A `FactoryManager` wraps a module and overwrites attibute access.\n",
    "- When used outside of factory mode, attribute access returns the attributes of the wrapped module like normal.\n",
    "- When used in factory mode, attribute access returns a `Loader` for the wrapped module's attributes."
   ]
  },
  {
   "cell_type": "code",
   "execution_count": 5,
   "id": "523deb69-e111-4a2d-9270-e96f6ffde536",
   "metadata": {},
   "outputs": [
    {
     "name": "stdout",
     "output_type": "stream",
     "text": [
      "1. <class 'gpflow.kernels.stationaries.Matern52'>\n",
      "2. <gpflow.kernels.stationaries.Matern52 object at 0x110e9cc90>\n",
      "3. Loader(path='gpflow.kernels.Matern52', factory=None)\n",
      "4. Builder(path='gpflow.kernels.Matern52', factory=None, args=[], keywords={'variance': 1.0, 'lengthscales': 0.5})\n"
     ]
    }
   ],
   "source": [
    "from factories import default_factory_mode, FactoryManager\n",
    "\n",
    "gpflow = FactoryManager(\"gpflow\")\n",
    "Kernel = gpflow.kernels.Matern52  # factory mode is False here\n",
    "kernel = gpflow.kernels.Matern52(lengthscales=0.5)\n",
    "print(f\"1. {Kernel}\")\n",
    "print(f\"2. {kernel}\")\n",
    "\n",
    "with default_factory_mode.ctx(True):  # factory mode is True here\n",
    "    loader = gpflow.kernels.Matern52\n",
    "    builder = loader(lengthscales=0.5)\n",
    "    print(f\"3. {loader}\")\n",
    "    print(f\"4. {builder}\")"
   ]
  }
 ],
 "metadata": {
  "kernelspec": {
   "display_name": "",
   "name": ""
  },
  "language_info": {
   "codemirror_mode": {
    "name": "ipython",
    "version": 3
   },
   "file_extension": ".py",
   "mimetype": "text/x-python",
   "name": "python",
   "nbconvert_exporter": "python",
   "pygments_lexer": "ipython3",
   "version": "3.11.5"
  }
 },
 "nbformat": 4,
 "nbformat_minor": 5
}
